{
  "nbformat": 4,
  "nbformat_minor": 0,
  "metadata": {
    "colab": {
      "provenance": [],
      "authorship_tag": "ABX9TyOaJaHbwF+RaS95CnE/PhEO",
      "include_colab_link": true
    },
    "kernelspec": {
      "name": "python3",
      "display_name": "Python 3"
    },
    "language_info": {
      "name": "python"
    }
  },
  "cells": [
    {
      "cell_type": "markdown",
      "metadata": {
        "id": "view-in-github",
        "colab_type": "text"
      },
      "source": [
        "<a href=\"https://colab.research.google.com/github/luisa988/py/blob/main/LLZS_PY_ACT2.ipynb\" target=\"_parent\"><img src=\"https://colab.research.google.com/assets/colab-badge.svg\" alt=\"Open In Colab\"/></a>"
      ]
    },
    {
      "cell_type": "markdown",
      "source": [
        "Nombre: Luisa Zerega.\n",
        "\n",
        "Materia: Python.\n",
        "\n",
        "Actividad 2: Programa en Python que lea 2 números enteros, usar una condición y analizar los dos números y desplegar cual de los números es el mayor 1\n",
        "\n",
        "Matricula: 356491"
      ],
      "metadata": {
        "id": "mjtPu3jj5VK-"
      }
    },
    {
      "cell_type": "code",
      "execution_count": 2,
      "metadata": {
        "colab": {
          "base_uri": "https://localhost:8080/",
          "height": 0
        },
        "id": "bh8ShAC_5BDf",
        "outputId": "4390fa54-34a4-4b2b-80b4-fc5f0630023b"
      },
      "outputs": [
        {
          "output_type": "stream",
          "name": "stdout",
          "text": [
            "Ingrese el primer número entero: 3\n",
            "Ingrese el segundo número entero: 4\n",
            "4 es el mayor número.\n"
          ]
        }
      ],
      "source": [
        "numero1 = int(input(\"Ingrese el primer número entero: \"))\n",
        "numero2 = int(input(\"Ingrese el segundo número entero: \"))\n",
        "\n",
        "if numero1 > numero2:\n",
        "    print(f\"{numero1} es el mayor número.\")\n",
        "elif numero2 > numero1:\n",
        "    print(f\"{numero2} es el mayor número.\")\n",
        "else:\n",
        "\n",
        "   print(\"Los números son iguales.\")"
      ]
    },
    {
      "cell_type": "code",
      "source": [
        "calif1 = float(input(\"Ingresa la calificacion 1: \"))\n",
        "\n",
        "calif2 = float(input(\"Ingresa la calificacion 2: \"))\n",
        "\n",
        "calif3 = float(input(\"Ingresa la calificacion 3: \"))\n",
        "\n",
        "calif4 = float(input(\"Ingresa la calificacion 4: \"))\n",
        "\n",
        "promedio = (calif1+calif2+calif3+calif4) / 4\n",
        "\n",
        "print(\"El promedio de las 4 calificaciones es: \",round(promedio,1))\n",
        "\n",
        "if promedio >= 60:\n",
        "  print(f\"{promedio} Aprobado :).\")\n",
        "  elif promedio\n",
        "\n"
      ],
      "metadata": {
        "colab": {
          "base_uri": "https://localhost:8080/"
        },
        "id": "FZzbuybHDO0W",
        "outputId": "fae81910-0ab0-4c6f-b7c9-6ea31d7c2b78"
      },
      "execution_count": 4,
      "outputs": [
        {
          "output_type": "stream",
          "name": "stdout",
          "text": [
            "Ingresa la calificacion 1: 30\n",
            "Ingresa la calificacion 2: 50\n",
            "Ingresa la calificacion 3: 60\n",
            "Ingresa la calificacion 4: 60\n",
            "El promedio de las 4 calificaciones es:  50.0\n"
          ]
        }
      ]
    }
  ]
}